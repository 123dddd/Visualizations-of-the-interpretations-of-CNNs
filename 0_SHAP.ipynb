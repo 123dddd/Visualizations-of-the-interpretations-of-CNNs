{
 "cells": [
  {
   "cell_type": "code",
   "execution_count": null,
   "metadata": {},
   "outputs": [],
   "source": [
    "import torch, torchvision\n",
    "from torch import nn\n",
    "from torchvision import transforms, models, datasets\n",
    "import shap\n",
    "import json\n",
    "import numpy as np"
   ]
  },
  {
   "cell_type": "code",
   "execution_count": null,
   "metadata": {},
   "outputs": [],
   "source": [
    "x = torch.randn((2,2,3)).numpy()\n",
    "\n",
    "y = torch.Tensor([0,0,0]).numpy()\n",
    "\n",
    "z = torch.Tensor([1,1,1]).numpy()\n",
    "\n",
    "print(y.ndim)\n",
    "\n",
    "print((x-y)/z == x)"
   ]
  },
  {
   "cell_type": "code",
   "execution_count": null,
   "metadata": {},
   "outputs": [],
   "source": [
    "f = torch.Tensor([0])\n",
    "print(f)\n",
    "\n",
    "f_np = f.numpy()[0]\n",
    "\n",
    "print(f_np)\n",
    "\n",
    "print(f.item())"
   ]
  },
  {
   "cell_type": "code",
   "execution_count": null,
   "metadata": {},
   "outputs": [],
   "source": [
    "# Mean and std value to normalize the images from ImageNet dataset\n",
    "mean = [0.485, 0.456, 0.406]\n",
    "std = [0.229, 0.224, 0.225]\n",
    "\n",
    "def normalize(image):\n",
    "    if image.max() > 1:\n",
    "        image /= 255\n",
    "    image = (image - mean) / std\n",
    "    # in addition, roll the axis so that they suit pytorch\n",
    "    return torch.tensor(image.swapaxes(-1, 1).swapaxes(2, 3)).float()"
   ]
  },
  {
   "cell_type": "code",
   "execution_count": null,
   "metadata": {},
   "outputs": [],
   "source": [
    "# load the model\n",
    "model = models.vgg19(pretrained=True).eval()\n",
    "\n",
    "# X is the dataset to be used as the background distribution\n",
    "X,_ = shap.datasets.imagenet50()\n",
    "\n",
    "# Limit the pixel value to 0-1\n",
    "X /= 255\n",
    "\n",
    "# Select the input images from X dataset,e.g.,the 39th and the 41th images\n",
    "to_explain = X[[35, 40, 20]]\n",
    "\n",
    "# load the ImageNet class names\n",
    "url = \"https://s3.amazonaws.com/deep-learning-models/image-models/imagenet_class_index.json\"\n",
    "fname = shap.datasets.cache(url)\n",
    "with open(fname) as f:\n",
    "    # Save the class names in class_names\n",
    "    class_names = json.load(f)\n",
    "\n",
    "# call the GradientExplainer function\n",
    "# model.features[34]: the last convolutional layer in Vgg19 network\n",
    "e = shap.GradientExplainer((model, model.features[34]), normalize(X))\n",
    "# Calculate the shap values. Ranked_output=1: top-1 prediction. \n",
    "# nsamples: the number of the samples to calculate the exceptions\n",
    "shap_values,indexes = e.shap_values(normalize(to_explain), ranked_outputs=1, nsamples=50)\n",
    "\n",
    "# get the names for the classes\n",
    "index_names = np.vectorize(lambda x: class_names[str(x)][1])(indexes)\n",
    "\n",
    "# plot the explanations\n",
    "shap_values = [np.swapaxes(np.swapaxes(s, 2, 3), 1, -1) for s in shap_values] # roll the axis so that they can be plotted\n",
    "\n",
    "shap.image_plot(shap_values, to_explain, index_names)"
   ]
  }
 ],
 "metadata": {
  "kernelspec": {
   "display_name": "Python 3",
   "language": "python",
   "name": "python3"
  },
  "language_info": {
   "codemirror_mode": {
    "name": "ipython",
    "version": 3
   },
   "file_extension": ".py",
   "mimetype": "text/x-python",
   "name": "python",
   "nbconvert_exporter": "python",
   "pygments_lexer": "ipython3",
   "version": "3.6.12"
  }
 },
 "nbformat": 4,
 "nbformat_minor": 4
}
